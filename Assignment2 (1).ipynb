{
 "cells": [
  {
   "cell_type": "code",
   "execution_count": 20,
   "metadata": {},
   "outputs": [
    {
     "name": "stdout",
     "output_type": "stream",
     "text": [
      "10\n",
      "10\n",
      "-8\n",
      "24\n",
      "0.041666666666666664\n",
      "4\n",
      "1\n",
      "i did my own reduce function\n"
     ]
    }
   ],
   "source": [
    "# Task1 - 1.1\n",
    "# Defined custom functions\n",
    "def summ(x,y):\n",
    "    return x+y\n",
    "def diff(x,y):\n",
    "    return x-y\n",
    "def mult(x,y):\n",
    "    return x*y\n",
    "def div(x,y):\n",
    "    return x/y\n",
    "# Defined reduce  function\n",
    "def myreduce(func, l):\n",
    "    count=0\n",
    "    output = type(l[0])\n",
    "    for i in l:        \n",
    "        if count == 0:\n",
    "            output = i\n",
    "        else :\n",
    "            output = func(output,i)\n",
    "        count=count+1\n",
    "    return output\n",
    "# executing the code\n",
    "k=[1,2,3,4]\n",
    "print(myreduce(summ,k))\n",
    "print(myreduce(lambda a,b:a+b,k))\n",
    "print(myreduce(diff,k))\n",
    "print(myreduce(mult,k))\n",
    "print(myreduce(div,k))\n",
    "print(myreduce(max,k))\n",
    "print(myreduce(min,k))\n",
    "l=[\"i\",\" did\",\" my\",\" own\",\" reduce\",\" function\"]\n",
    "print(myreduce(summ,l))"
   ]
  },
  {
   "cell_type": "code",
   "execution_count": 21,
   "metadata": {},
   "outputs": [
    {
     "data": {
      "text/plain": [
       "[2, 4]"
      ]
     },
     "execution_count": 21,
     "metadata": {},
     "output_type": "execute_result"
    }
   ],
   "source": [
    "#Task1 - 1.2\n",
    "def even_check(num):\n",
    "    if num%2 ==0:\n",
    "        return True\n",
    "# Defined filter  function\n",
    "def myfilter(func, l):\n",
    "    m=[]\n",
    "    for i in l:\n",
    "        if func(i):\n",
    "            m.append(i)\n",
    "    return m\n",
    "l=[1,2,3,4,5]\n",
    "myfilter(even_check,l)"
   ]
  },
  {
   "cell_type": "code",
   "execution_count": 24,
   "metadata": {},
   "outputs": [
    {
     "data": {
      "text/plain": [
       "['A', 'C', 'A', 'D', 'G', 'I', 'L', 'D']"
      ]
     },
     "execution_count": 24,
     "metadata": {},
     "output_type": "execute_result"
    }
   ],
   "source": [
    "#Task1 - 2.1\n",
    "[x for x in 'ACADGILD']"
   ]
  },
  {
   "cell_type": "code",
   "execution_count": 25,
   "metadata": {},
   "outputs": [
    {
     "data": {
      "text/plain": [
       "['X', 'XX', 'XXX', 'XXXX', 'Y', 'YY', 'YYY', 'YYYY', 'Z', 'ZZ', 'ZZZ', 'ZZZZ']"
      ]
     },
     "execution_count": 25,
     "metadata": {},
     "output_type": "execute_result"
    }
   ],
   "source": [
    "#Task1 - 2.2\n",
    "lst_1=[\"X\",\"Y\",\"Z\"]\n",
    "first_col = [row for row in lst_1]+[row+row for row in lst_1]+[row+row+row for row in lst_1]+[row+row+row+row for row in lst_1]\n",
    "first_col[::3]+first_col[1::3]+first_col[2::3]"
   ]
  },
  {
   "cell_type": "code",
   "execution_count": 26,
   "metadata": {},
   "outputs": [
    {
     "data": {
      "text/plain": [
       "['X', 'Y', 'Z', 'XX', 'YY', 'ZZ', 'XX', 'YY', 'ZZ', 'XXXX', 'YYYY', 'ZZZZ']"
      ]
     },
     "execution_count": 26,
     "metadata": {},
     "output_type": "execute_result"
    }
   ],
   "source": [
    "#Task1 - 2.3\n",
    "lst_1=[\"X\",\"Y\",\"Z\"]\n",
    "first_col = [row for row in lst_1]+[row+row for row in lst_1]+[row+row for row in lst_1]+[row+row+row+row for row in lst_1]\n",
    "first_col"
   ]
  },
  {
   "cell_type": "code",
   "execution_count": 27,
   "metadata": {},
   "outputs": [
    {
     "data": {
      "text/plain": [
       "[[2], [3], [4], [3], [4], [5], [4], [5], [6]]"
      ]
     },
     "execution_count": 27,
     "metadata": {},
     "output_type": "execute_result"
    }
   ],
   "source": [
    "#Task1 - 2.4\n",
    "lst_1=[1,2,3]\n",
    "p =[[i+1] for i in lst_1]+[[i+2] for i in lst_1]+[[i+3] for i in lst_1]\n",
    "p"
   ]
  },
  {
   "cell_type": "code",
   "execution_count": 31,
   "metadata": {},
   "outputs": [
    {
     "data": {
      "text/plain": [
       "[[2, 3, 4, 5], [3, 4, 5, 6], [4, 5, 6, 7], [5, 6, 7, 8]]"
      ]
     },
     "execution_count": 31,
     "metadata": {},
     "output_type": "execute_result"
    }
   ],
   "source": [
    "#Task1 - 2.5\n",
    "lst_1=[2,3,4,5]\n",
    "p =[[i for i in lst_1],[i+1 for i in lst_1],[i+2 for i in lst_1],[i+3 for i in lst_1]]\n",
    "p"
   ]
  },
  {
   "cell_type": "code",
   "execution_count": 28,
   "metadata": {},
   "outputs": [
    {
     "data": {
      "text/plain": [
       "[(1, 1), (2, 1), (3, 1), (1, 2), (2, 2), (3, 2), (1, 3), (2, 3), (3, 3)]"
      ]
     },
     "execution_count": 28,
     "metadata": {},
     "output_type": "execute_result"
    }
   ],
   "source": [
    "#Task1 - 2.6\n",
    "lst_1=[1,2,3]\n",
    "p =[tuple([j,i]) for i in lst_1 for j in lst_1]\n",
    "p"
   ]
  },
  {
   "cell_type": "code",
   "execution_count": 41,
   "metadata": {},
   "outputs": [],
   "source": [
    "#Task1 - 3\n",
    "def longestword(l):\n",
    "    length = len(l[0])\n",
    "    wordindex = 0\n",
    "    count = 0\n",
    "    for i in l:\n",
    "        if len(i) >= length:\n",
    "            length = len(i)\n",
    "            wordindex = count\n",
    "        count = count+1\n",
    "    return l[wordindex]   \n",
    "        "
   ]
  },
  {
   "cell_type": "code",
   "execution_count": 42,
   "metadata": {},
   "outputs": [
    {
     "name": "stdout",
     "output_type": "stream",
     "text": [
      " hjjbbjbjbjbjbown\n"
     ]
    }
   ],
   "source": [
    "l=[\"i\",\" did\",\" myjjvjnnnvjv\",\" hjjbbjbjbjbjbown\",\" reduce\",\" function\"]\n",
    "print(longestword(l))"
   ]
  },
  {
   "cell_type": "code",
   "execution_count": 45,
   "metadata": {},
   "outputs": [
    {
     "name": "stdout",
     "output_type": "stream",
     "text": [
      "Enter the length of side a = 2\n",
      "Enter the length of side b = 2\n",
      "Enter the length of side c = 2\n",
      "area : 1.7320508075688772\n"
     ]
    }
   ],
   "source": [
    "#Task2 - 1.1\n",
    "class Triangle:\n",
    "    def __init__(Obj,a,b,c):\n",
    "        Obj.a = float(a)\n",
    "        Obj.b = float(b)\n",
    "        Obj.c = float(c)\n",
    "    def area(Obj):\n",
    "        s=(Obj.a + Obj.b + Obj.c)/2\n",
    "        return((s*(s-Obj.a)*(s-Obj.b)*(s-Obj.c))**0.5)\n",
    "a=input(\"Enter the length of side a = \")\n",
    "b=input(\"Enter the length of side b = \")\n",
    "c=input(\"Enter the length of side c = \")\n",
    "t = Triangle(a, b, c)\n",
    "print(\"area : {}\".format(t.area()))"
   ]
  },
  {
   "cell_type": "code",
   "execution_count": 46,
   "metadata": {},
   "outputs": [],
   "source": [
    "#Task2 - 1.2\n",
    "def filter_long_words(l,a):\n",
    "    m=[]\n",
    "    for i in l:\n",
    "        if len(i) > a:\n",
    "            m.append(i)            \n",
    "    return m "
   ]
  },
  {
   "cell_type": "code",
   "execution_count": 48,
   "metadata": {},
   "outputs": [
    {
     "data": {
      "text/plain": [
       "[' myjjvjnnnvjv', ' hjjbbjbjbjbjbown', ' reduce', ' function']"
      ]
     },
     "execution_count": 48,
     "metadata": {},
     "output_type": "execute_result"
    }
   ],
   "source": [
    "l=[\"i\",\" did\",\" myjjvjnnnvjv\",\" hjjbbjbjbjbjbown\",\" reduce\",\" function\"]\n",
    "filter_long_words(l,5)"
   ]
  },
  {
   "cell_type": "code",
   "execution_count": 49,
   "metadata": {},
   "outputs": [],
   "source": [
    "#Task2 - 2.1\n",
    "def map_words(l):\n",
    "    m=[]\n",
    "    for i in l:\n",
    "        m.append(len(i))            \n",
    "    return m "
   ]
  },
  {
   "cell_type": "code",
   "execution_count": 50,
   "metadata": {},
   "outputs": [
    {
     "data": {
      "text/plain": [
       "[1, 4, 13, 17, 7, 9]"
      ]
     },
     "execution_count": 50,
     "metadata": {},
     "output_type": "execute_result"
    }
   ],
   "source": [
    "l=[\"i\",\" did\",\" myjjvjnnnvjv\",\" hjjbbjbjbjbjbown\",\" reduce\",\" function\"]\n",
    "map_words(l)"
   ]
  },
  {
   "cell_type": "code",
   "execution_count": 51,
   "metadata": {},
   "outputs": [],
   "source": [
    "#Task2 - 2.2\n",
    "def vowel_check(l):\n",
    "    m=['a','e','i','o','u']\n",
    "    for i in m:\n",
    "        if i==l:\n",
    "            return True\n",
    "            break\n",
    "    else:\n",
    "        return False"
   ]
  },
  {
   "cell_type": "code",
   "execution_count": 53,
   "metadata": {},
   "outputs": [
    {
     "data": {
      "text/plain": [
       "False"
      ]
     },
     "execution_count": 53,
     "metadata": {},
     "output_type": "execute_result"
    }
   ],
   "source": [
    "vowel_check('j')"
   ]
  }
 ],
 "metadata": {
  "kernelspec": {
   "display_name": "Python 3",
   "language": "python",
   "name": "python3"
  },
  "language_info": {
   "codemirror_mode": {
    "name": "ipython",
    "version": 3
   },
   "file_extension": ".py",
   "mimetype": "text/x-python",
   "name": "python",
   "nbconvert_exporter": "python",
   "pygments_lexer": "ipython3",
   "version": "3.7.6"
  }
 },
 "nbformat": 4,
 "nbformat_minor": 4
}
